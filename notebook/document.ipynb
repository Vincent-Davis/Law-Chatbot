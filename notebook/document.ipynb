{
 "cells": [
  {
   "cell_type": "code",
   "execution_count": 3,
   "metadata": {},
   "outputs": [],
   "source": [
    "from langchain_community.document_loaders import PyPDFLoader\n",
    "from langchain.text_splitter import RecursiveCharacterTextSplitter"
   ]
  },
  {
   "cell_type": "code",
   "execution_count": 4,
   "metadata": {},
   "outputs": [
    {
     "name": "stdout",
     "output_type": "stream",
     "text": [
      "Processing: 5. UU-40-2007 PERSEROAN TERBATAS.pdf\n",
      "Added 280 documents from 5. UU-40-2007 PERSEROAN TERBATAS.pdf\n",
      "Processing: e39ab-uu-nomor-8-tahun-1999.pdf\n",
      "Added 87 documents from e39ab-uu-nomor-8-tahun-1999.pdf\n",
      "Processing: kolonial_kuh_perdata_fix.pdf\n",
      "Added 1150 documents from kolonial_kuh_perdata_fix.pdf\n",
      "Processing: KUH DAGANG.pdf\n",
      "Added 604 documents from KUH DAGANG.pdf\n",
      "Processing: UU Nomor  19 Tahun 2016.pdf\n",
      "Added 44 documents from UU Nomor  19 Tahun 2016.pdf\n",
      "Processing: UU Nomor 13 Tahun 2003.pdf\n",
      "Added 242 documents from UU Nomor 13 Tahun 2003.pdf\n",
      "Processing: UU_1999_30.pdf\n",
      "Added 84 documents from UU_1999_30.pdf\n",
      "Processing: UU_Nomor_11_Tahun_2020-compressed.pdf\n",
      "Added 2090 documents from UU_Nomor_11_Tahun_2020-compressed.pdf\n",
      "Total number of combined documents:  4581\n"
     ]
    }
   ],
   "source": [
    "# Inisialisasi splitter untuk memisahkan dokumen\n",
    "text_splitter = RecursiveCharacterTextSplitter(chunk_size=1000)\n",
    "\n",
    "# Inisialisasi variabel untuk menampung dokumen yang digabung\n",
    "combined_docs = []\n",
    "\n",
    "# Fungsi untuk memuat dan memisahkan dokumen\n",
    "def load_and_split_pdf(file_path, text_splitter):\n",
    "    loader = PyPDFLoader(file_path)\n",
    "    data = loader.load()  # Muat dokumen sebagai satu kesatuan\n",
    "    split_docs = text_splitter.split_documents(data)  # Pisahkan dokumen\n",
    "    return split_docs\n",
    "\n",
    "# Daftar file yang akan diproses\n",
    "file_paths = [\n",
    "    \"5. UU-40-2007 PERSEROAN TERBATAS.pdf\",\n",
    "    \"e39ab-uu-nomor-8-tahun-1999.pdf\",\n",
    "    \"kolonial_kuh_perdata_fix.pdf\",\n",
    "    \"KUH DAGANG.pdf\",\n",
    "    \"UU Nomor  19 Tahun 2016.pdf\",\n",
    "    \"UU Nomor 13 Tahun 2003.pdf\",\n",
    "    \"UU_1999_30.pdf\",\n",
    "    \"UU_Nomor_11_Tahun_2020-compressed.pdf\",\n",
    "]\n",
    "\n",
    "base = \"/Docs/\"\n",
    "# Proses setiap dokumen secara otomatis\n",
    "for file_path in file_paths:\n",
    "    full_path = base_path + file_path  # Gabungkan base path dengan file path\n",
    "    print(f\"Processing: {full_path}\")\n",
    "    additional_docs = load_and_split_pdf(full_path, text_splitter)  # Load dan split dokumen\n",
    "    combined_docs += additional_docs  # Gabungkan ke dalam combined_docs\n",
    "    print(f\"Added {len(additional_docs)} documents from {file_path}\")\n",
    "\n",
    "# Total dokumen setelah penggabungan\n",
    "print(\"Total number of combined documents: \", len(combined_docs))"
   ]
  },
  {
   "cell_type": "code",
   "execution_count": 5,
   "metadata": {},
   "outputs": [
    {
     "name": "stderr",
     "output_type": "stream",
     "text": [
      "c:\\Kuliah\\Legalink\\.venv\\Lib\\site-packages\\tqdm\\auto.py:21: TqdmWarning: IProgress not found. Please update jupyter and ipywidgets. See https://ipywidgets.readthedocs.io/en/stable/user_install.html\n",
      "  from .autonotebook import tqdm as notebook_tqdm\n"
     ]
    },
    {
     "data": {
      "text/plain": [
       "True"
      ]
     },
     "execution_count": 5,
     "metadata": {},
     "output_type": "execute_result"
    }
   ],
   "source": [
    "from langchain_chroma import Chroma\n",
    "from langchain_google_genai import GoogleGenerativeAIEmbeddings\n",
    "\n",
    "from dotenv import load_dotenv\n",
    "load_dotenv() \n"
   ]
  },
  {
   "cell_type": "code",
   "execution_count": 6,
   "metadata": {},
   "outputs": [],
   "source": [
    "from langchain_google_genai import ChatGoogleGenerativeAI\n",
    "\n",
    "llm = ChatGoogleGenerativeAI(\n",
    "    model=\"gemini-1.5-pro\",\n",
    "    temperature=0.2,               # Sesuai dengan generation_config\n",
    "    top_p=0.95,                    # Menambahkan top_p\n",
    "    top_k=40,                      # Menambahkan top_k\n",
    "    max_tokens=8192,               # Menyesuaikan max_output_tokens\n",
    "    response_mime_type=\"text/plain\" # Menyesuaikan response_mime_type\n",
    ")\n"
   ]
  },
  {
   "cell_type": "code",
   "execution_count": 12,
   "metadata": {},
   "outputs": [],
   "source": [
    "# Define system prompt with context placeholder\n",
    "system_prompt = \"\"\"\n",
    "Anda adalah AI hukum yang sangat terlatih, dirancang untuk menganalisis dokumen hukum dengan mengacu pada data dokumen yang diberikan serta pasal-pasal relevan yang ditemukan melalui retrieval. Berikut adalah dokumen yang akan Anda analisis:\n",
    "\n",
    "{context}\n",
    "\n",
    "Tugas Anda adalah:\n",
    "\n",
    "1. Membaca dan memahami dokumen hukum yang diberikan di atas.\n",
    "2. Mengekstrak informasi utama dari dokumen dan menyajikannya dalam format JSON dengan bidang berikut:\n",
    "   - **Judul Dokumen**: Judul dokumen hukum.\n",
    "   - **Tanggal**: Tanggal yang disebutkan dalam dokumen.\n",
    "   - **Pihak**: Nama-nama pihak yang terlibat dalam dokumen.\n",
    "   - **Deskripsi**: Ringkasan singkat mengenai isi dokumen.\n",
    "   - **Perjanjian**: Kesepakatan atau kewajiban utama yang dibahas dalam dokumen.\n",
    "   - **Hak**: Hak-hak yang secara eksplisit disebutkan dalam dokumen.\n",
    "   - **Penyelesaian**: Cara penyelesaian sengketa yang disebutkan dalam dokumen.\n",
    "   - **Pembayaran**: Ketentuan terkait pembayaran, jika ada.\n",
    "   - **Pengecualian**: Ketentuan pengecualian atau kondisi tertentu yang disebutkan dalam dokumen.\n",
    "   - **Skor**: Penilaian terhadap kelengkapan, kejelasan, dan kualitas dokumen.\n",
    "\n",
    "3. Melakukan analisis terhadap dokumen dengan penilaian objektif, termasuk:\n",
    "   - Kesesuaian dokumen dengan kebutuhan hukum.\n",
    "   - Kesalahan atau kekurangan dalam teks dokumen.\n",
    "   - Potensi celah hukum yang dapat menimbulkan masalah di kemudian hari.\n",
    "\n",
    "4. Jika ada pelanggaran atau rujukan terhadap pasal-pasal hukum yang ditemukan melalui retrieval:\n",
    "   - Sebutkan pasal-pasal yang relevan.\n",
    "   - Jelaskan bagaimana pasal tersebut relevan dengan analisis dokumen.\n",
    "   - Jika tidak ada pasal yang relevan, abaikan bagian ini.\n",
    "\n",
    "5. Menyampaikan hasil analisis dalam format terstruktur dengan bahasa yang jelas, profesional, dan ramah.\n",
    "\n",
    "**Catatan Penting**:\n",
    "- Prioritaskan keakuratan dan relevansi dalam setiap analisis.\n",
    "- Kosongkan bidang dalam output JSON jika tidak ada informasi yang relevan.\n",
    "- Gunakan hasil retrieval untuk mendukung analisis, tetapi hanya jika pasal-pasal tersebut relevan dengan konteks dokumen yang dianalisis.\n",
    "\n",
    "\"\"\""
   ]
  },
  {
   "cell_type": "code",
   "execution_count": 13,
   "metadata": {},
   "outputs": [
    {
     "data": {
      "text/plain": [
       "True"
      ]
     },
     "execution_count": 13,
     "metadata": {},
     "output_type": "execute_result"
    }
   ],
   "source": [
    "from langchain.chains import create_retrieval_chain\n",
    "from langchain.chains.combine_documents import create_stuff_documents_chain\n",
    "from langchain_core.prompts import ChatPromptTemplate\n",
    "from langchain_google_genai import ChatGoogleGenerativeAI, GoogleGenerativeAIEmbeddings\n",
    "from langchain_chroma import Chroma\n",
    "from langchain_google_genai import GoogleGenerativeAIEmbeddings\n",
    "from dotenv import load_dotenv\n",
    "\n",
    "\n",
    "\n",
    "load_dotenv() \n"
   ]
  },
  {
   "cell_type": "code",
   "execution_count": 14,
   "metadata": {},
   "outputs": [],
   "source": [
    "from langchain.chains import create_history_aware_retriever\n",
    "from langchain_core.prompts import MessagesPlaceholder\n",
    "\n",
    "contextualize_q_system_prompt = '''Anda adalah AI hukum yang sangat terlatih, dirancang untuk membantu pengguna menganalisis dokumen hukum dan menjawab pertanyaan berdasarkan isi dokumen serta sejarah percakapan (chat history). Tugas Anda adalah:\n",
    "\n",
    "1. **Mengidentifikasi Kebutuhan Konteks**:\n",
    "   - Berdasarkan dokumen hukum yang diberikan dan sejarah percakapan, analisis apakah pertanyaan pengguna memerlukan tambahan konteks agar dapat dipahami sepenuhnya.\n",
    "   - Jika pertanyaan mengacu pada bagian tertentu dari dokumen atau percakapan sebelumnya, gunakan informasi tersebut untuk mereformulasikan pertanyaan agar relevan.\n",
    "\n",
    "2. **Reformulasi Pertanyaan**:\n",
    "   - Jika pertanyaan pengguna tidak lengkap atau bergantung pada konteks sebelumnya, reformulasikan pertanyaan tersebut menjadi pertanyaan mandiri yang lengkap dan jelas.\n",
    "   - Sertakan referensi eksplisit ke bagian dokumen yang relevan jika diperlukan.\n",
    "   - Jika pertanyaan sudah mandiri dan jelas, kembalikan seperti apa adanya tanpa perubahan.\n",
    "\n",
    "3. **Tujuan Reformulasi**:\n",
    "   - Membuat pertanyaan yang dapat dipahami secara independen dan memungkinkan sistem untuk mencari informasi yang relevan dari dokumen hukum.\n",
    "\n",
    "4. **Format Output**:\n",
    "   - Kembalikan hanya pertanyaan yang telah direformulasikan.\n",
    "   - Jangan memberikan jawaban atau penjelasan tambahan.\n",
    "\n",
    "**Peraturan**:\n",
    "- Jangan menjawab pertanyaan atau memberikan interpretasi.\n",
    "- Pastikan pertanyaan yang direformulasikan fokus pada konteks dokumen dan chat history.\n",
    "- Jika pertanyaan tidak membutuhkan reformulasi, kembalikan seperti apa adanya.\n",
    "\n",
    "**Contoh**:\n",
    "- **Dokumen**:\n",
    "  - \"Pasal 1474 KUHPerdata menyatakan bahwa penjual wajib menjamin barang yang diserahkan kepada pembeli sesuai dengan kesepakatan.\"\n",
    "\n",
    "- **Chat History**:\n",
    "  - Q1: \"Apa itu kewajiban penjual dalam perjanjian jual beli?\"\n",
    "  - A1: \"Penjual wajib menjamin barang sesuai kesepakatan (Pasal 1474 KUHPerdata).\"\n",
    "\n",
    "- **Pertanyaan Baru**: \"Apa yang terjadi jika barang cacat?\"\n",
    "  - **Reformulasi**: \"Apa kewajiban penjual jika barang yang diserahkan kepada pembeli cacat menurut Pasal 1474 KUHPerdata?\"\n",
    "\n",
    "- **Pertanyaan Baru (Mandiri)**: \"Bagaimana cara menyelesaikan sengketa dalam perjanjian?\"\n",
    "  - **Kembalikan Tanpa Perubahan**: \"Bagaimana cara menyelesaikan sengketa dalam perjanjian?\"\n",
    "\n",
    "'''\n",
    "\n",
    "vectorstore = Chroma.from_documents(documents=combined_docs, embedding=GoogleGenerativeAIEmbeddings(model=\"models/embedding-001\"))\n",
    "retriever = vectorstore.as_retriever(search_type=\"similarity\", search_kwargs={\"k\": 10})\n",
    "    \n",
    "contextualize_q_prompt = ChatPromptTemplate.from_messages(\n",
    "    [\n",
    "        (\"system\", contextualize_q_system_prompt),\n",
    "        MessagesPlaceholder(\"chat_history\"),\n",
    "        (\"human\", \"{input}\"),\n",
    "    ]\n",
    ")\n",
    "history_aware_retriever = create_history_aware_retriever(\n",
    "    llm, retriever, contextualize_q_prompt\n",
    ")\n",
    "\n"
   ]
  },
  {
   "cell_type": "code",
   "execution_count": 15,
   "metadata": {},
   "outputs": [],
   "source": [
    "from langchain.chains import create_retrieval_chain\n",
    "from langchain.chains.combine_documents import create_stuff_documents_chain\n",
    "\n",
    "qa_prompt = ChatPromptTemplate.from_messages(\n",
    "    [\n",
    "        (\"system\", system_prompt),\n",
    "        MessagesPlaceholder(\"chat_history\"),\n",
    "        (\"human\", \"{input}\"),\n",
    "    ]\n",
    ")\n",
    "\n",
    "question_answer_chain = create_stuff_documents_chain(llm, qa_prompt)\n",
    "\n",
    "rag_chain = create_retrieval_chain(history_aware_retriever, question_answer_chain)"
   ]
  },
  {
   "cell_type": "code",
   "execution_count": 16,
   "metadata": {},
   "outputs": [],
   "source": [
    "from langchain_core.messages import AIMessage, HumanMessage\n",
    "\n",
    "chat_history = []\n"
   ]
  },
  {
   "cell_type": "code",
   "execution_count": 17,
   "metadata": {},
   "outputs": [],
   "source": [
    "from PyPDF2 import PdfReader\n",
    "\n",
    "# Fungsi untuk membaca teks dari PDF menggunakan PyPDF2\n",
    "def read_pdf(file_path):\n",
    "    \"\"\"\n",
    "    Reads the content of a PDF file and returns the combined text.\n",
    "    \n",
    "    Args:\n",
    "        file_path (str): Path to the PDF file.\n",
    "    \n",
    "    Returns:\n",
    "        str: Combined text from all pages in the PDF.\n",
    "    \"\"\"\n",
    "    reader = PdfReader(file_path)\n",
    "    text = \"\"\n",
    "    for page in reader.pages:\n",
    "        text += page.extract_text() + \"\\n\"\n",
    "    return text.strip()\n",
    "\n",
    "# Path ke file PDF\n",
    "file_path = \"Kerjasama_UMKM.pdf\"\n",
    "\n",
    "# Baca dokumen dari PDF\n",
    "read_doc = read_pdf(file_path)\n"
   ]
  },
  {
   "cell_type": "code",
   "execution_count": 24,
   "metadata": {},
   "outputs": [],
   "source": [
    "prompt = f\"\"\"Dokumen yang akan dianalisis adalah sebagai berikut:\n",
    "{read_doc}\n",
    "\n",
    "Tugas Anda adalah menganalisis dokumen tersebut dan memberikan output dalam format JSON dengan bidang berikut:\n",
    "- Judul Dokumen: Judul dokumen hukum.\n",
    "- Tanggal: Tanggal yang disebutkan dalam dokumen.\n",
    "- Pihak: Nama-nama pihak yang terlibat dalam dokumen.\n",
    "- Deskripsi: Ringkasan singkat mengenai isi dokumen.\n",
    "- Perjanjian: Kesepakatan atau kewajiban utama yang dibahas dalam dokumen.\n",
    "- Hak: Hak-hak yang secara eksplisit disebutkan dalam dokumen.\n",
    "- Penyelesaian: Cara penyelesaian sengketa yang disebutkan dalam dokumen.\n",
    "- Pembayaran: Ketentuan terkait pembayaran, jika ada.\n",
    "- Pengecualian: Ketentuan pengecualian atau kondisi tertentu yang disebutkan dalam dokumen.\n",
    "- Skor: Penilaian terhadap kelengkapan, kejelasan, dan kualitas dokumen.\n",
    "- Kesimpulan: Ringkasan akhir dari analisis dokumen, termasuk rekomendasi jika ada.\n",
    "- Clause Suggestion: Rekomendasi klausa tambahan yang dapat ditambahkan untuk meningkatkan kualitas dokumen, jika diperlukan.\n",
    "\n",
    "Berikan analisis dokumen, termasuk:\n",
    "- Kesesuaian dokumen dengan kebutuhan hukum.\n",
    "- Kesalahan atau kekurangan dalam teks dokumen.\n",
    "- Potensi celah hukum yang dapat menimbulkan masalah.\n",
    "- Rekomendasi klausa tambahan untuk mencegah potensi masalah di masa depan atau meningkatkan kejelasan dokumen.\n",
    "\n",
    "Pastikan untuk hanya menggunakan informasi yang relevan dari dokumen dan kosongkan bidang yang tidak ada informasinya.\n",
    "\n",
    "Hasil akhir harus disajikan dalam format JSON yang valid.\n",
    "\"\"\"\n"
   ]
  },
  {
   "cell_type": "code",
   "execution_count": 25,
   "metadata": {},
   "outputs": [
    {
     "name": "stdout",
     "output_type": "stream",
     "text": [
      "```json\n",
      "{\n",
      "  \"Judul Dokumen\": \"SURAT PERJANJIAN KERJASAMA Tentang PEMASARAN PRODUK USAHA MIKRO KECIL MENENGAH (UMKM) ARANEH SNACK dengan PT. INDOMARCO PRISMATAMA CABANG BANDUNG.\",\n",
      "  \"Tanggal\": \"Dua Puluh Enam Mei tahun Dua Ribu Enam Belas\",\n",
      "  \"Pihak\": [\n",
      "    \"Fani Najmun Nisa (Direktur, ARANEH SNACK)\",\n",
      "    \"Anto Suhanto (SPV. Development, PT. Indomarco Prismatama Cabang Bandung)\"\n",
      "  ],\n",
      "  \"Deskripsi\": \"Perjanjian kerjasama pemasaran produk UMKM ARANEH SNACK (Kong Berry, Kongnass, Kong Matcha) dengan PT. Indomarco Prismatama Cabang Bandung.\",\n",
      "  \"Perjanjian\": [\n",
      "    \"PIHAK KESATU menyerahkan produk kepada PIHAK KEDUA untuk dipasarkan di gerai/toko Indomaret.\",\n",
      "    \"PIHAK KEDUA akan memasarkan produk setelah melalui pemeriksaan dan memenuhi persyaratan.\",\n",
      "    \"PIHAK KEDUA menyediakan rak khusus untuk produk.\",\n",
      "    \"PIHAK KESATU melakukan pengecekan berkala terhadap produk di gerai/toko dan melakukan penarikan/penggantian produk.\"\n",
      "  ],\n",
      "  \"Hak\": {\n",
      "    \"PIHAK KESATU\": \"Menerima pembayaran sesuai addendum perjanjian\",\n",
      "    \"PIHAK KEDUA\": \"Memasarkan produk dan melakukan pemeriksaan produk sebelum dipasarkan\"\n",
      "  },\n",
      "  \"Penyelesaian\": \"Musyawarah untuk mufakat\",\n",
      "  \"Pembayaran\": \"Diatur dalam addendum perjanjian\",\n",
      "  \"Pengecualian\": null,\n",
      "  \"Skor\": 6,\n",
      "  \"Kesimpulan\": \"Dokumen ini memerlukan revisi dan penambahan klausul penting untuk menjadikannya perjanjian yang komprehensif dan meminimalisir potensi sengketa.  Detail pembayaran, jangka waktu, prosedur pemeriksaan dan pengembalian produk, serta mekanisme penyelesaian sengketa perlu diperjelas.\",\n",
      "  \"Clause Suggestion\": [\n",
      "    {\"title\": \"Jangka Waktu Perjanjian\", \"description\": \"Menentukan jangka waktu berlakunya perjanjian kerjasama ini.\"},\n",
      "    {\"title\": \"Ketentuan Pembayaran\", \"description\": \"Merinci metode pembayaran, jangka waktu pembayaran, dan konsekuensi keterlambatan pembayaran.  Informasi ini sebaiknya dicantumkan di perjanjian utama, bukan di addendum.\"},\n",
      "    {\"title\": \"Prosedur Pemeriksaan Produk\", \"description\": \"Menjelaskan secara rinci bagaimana PIHAK KEDUA melakukan pemeriksaan produk, siapa yang bertanggung jawab, dan apa konsekuensi jika produk tidak memenuhi persyaratan.\"},\n",
      "    {\"title\": \"Spesifikasi Rak Khusus\", \"description\": \"Merinci spesifikasi rak yang disediakan (ukuran, lokasi, jumlah), berapa lama produk akan dipajang, dan bagaimana jika rak penuh.\"},\n",
      "    {\"title\": \"Prosedur Penarikan dan Penggantian Produk\", \"description\": \"Menjelaskan mekanisme pemberitahuan kepada PIHAK KEDUA, siapa yang menanggung biaya penggantian, dan bagaimana prosedur pemusnahan produk yang ditarik.\"},\n",
      "    {\"title\": \"Definisi Penanggung Jawab Gerai/Toko\", \"description\": \"Mendefinisikan dengan jelas siapa yang dimaksud dengan 'penanggung jawab gerai/toko'.\"},\n",
      "    {\"title\": \"Mekanisme Penyelesaian Sengketa Alternatif\", \"description\": \"Menambahkan mekanisme penyelesaian sengketa alternatif jika musyawarah gagal, misalnya mediasi atau arbitrase.\"},\n",
      "    {\"title\": \"Klausul Kerahasiaan\", \"description\": \"Melindungi informasi bisnis yang sensitif milik kedua belah pihak.\"},\n",
      "    {\"title\": \"Klausul Force Majeure\", \"description\": \"Mengatur kondisi di luar kendali para pihak, seperti bencana alam atau kerusuhan.\"},\n",
      "    {\"title\": \"Hak Kekayaan Intelektual\", \"description\": \"Menjelaskan kepemilikan dan penggunaan merek dagang, logo, dan hak kekayaan intelektual lainnya.\"},\n",
      "    {\"title\": \"Mekanisme Pemutusan Perjanjian\", \"description\": \"Mengatur bagaimana perjanjian ini dapat diputus dan konsekuensinya.\"},\n",
      "    {\"title\": \"Ganti Rugi\", \"description\": \"Mengatur ganti rugi jika terjadi pelanggaran perjanjian.\"}\n",
      "  ]\n",
      "}\n",
      "```\n",
      "\n"
     ]
    }
   ],
   "source": [
    "ai_msg = rag_chain.invoke({\"input\": prompt, \"chat_history\": chat_history})\n",
    "chat_history.extend(\n",
    "    [\n",
    "        HumanMessage(content=prompt),\n",
    "        AIMessage(content=ai_msg[\"answer\"]),\n",
    "    ]\n",
    ")\n",
    "print(ai_msg[\"answer\"])\n",
    "print()"
   ]
  },
  {
   "cell_type": "code",
   "execution_count": 23,
   "metadata": {},
   "outputs": [
    {
     "name": "stdout",
     "output_type": "stream",
     "text": [
      "Mari kita bahas pasal-pasal yang Anda sebutkan satu per satu:\n",
      "\n",
      "* **Pasal 2 (Pemeriksaan Produk):** Kewajiban PIHAK KEDUA untuk memeriksa produk mencakup verifikasi bahwa produk memenuhi persyaratan yang tercantum dalam pasal tersebut, yaitu: berdasarkan pesanan PIHAK KEDUA, kemasan menarik dan sesuai standar, memiliki label halal MUI, mencantumkan nomor PIRT atau Balai POM, dan mencantumkan tanggal kadaluarsa.  Namun, perjanjian tidak merinci *bagaimana* pemeriksaan ini dilakukan, siapa yang bertanggung jawab, dan apa konsekuensi jika produk tidak memenuhi persyaratan.  Perlu ada kejelasan lebih lanjut, misalnya, apakah PIHAK KEDUA berhak menolak produk yang tidak memenuhi standar, dan bagaimana mekanisme pengembaliannya.\n",
      "\n",
      "* **Pasal 3 (Rak Khusus):** Pasal ini menyatakan PIHAK KEDUA menyediakan rak khusus.  Namun, detailnya kurang.  Perjanjian perlu mencantumkan  spesifikasi rak (ukuran, lokasi, jumlah),  berapa lama produk akan dipajang, dan  bagaimana jika rak penuh.  Ketidakjelasan ini dapat menimbulkan  perselisihan di kemudian hari.\n",
      "\n",
      "* **Pasal 4 (Pengecekan Produk oleh PIHAK KESATU):** PIHAK KESATU berhak mengecek produk minimal seminggu sekali untuk mengetahui kondisi dan sisa barang, serta melakukan penarikan dan penggantian produk yang diketahui oleh PIHAK KEDUA atau penanggung jawab gerai/toko.  Prosedur penarikan dan penggantian produk perlu dijelaskan lebih detail.  Misalnya, bagaimana mekanisme pemberitahuan kepada PIHAK KEDUA, siapa yang menanggung biaya penggantian, dan bagaimana prosedur pemusnahan produk yang ditarik.  Istilah \"penanggung jawab gerai/toko\" juga masih ambigu dan perlu didefinisikan dengan jelas.\n",
      "\n",
      "* **Pasal 5 (Kewajiban Pembayaran):** Pasal ini sama sekali *tidak* cukup jelas.  Menyatakan bahwa pembayaran akan diatur dalam addendum  justru menimbulkan ketidakpastian.  Informasi penting seperti  metode pembayaran,  jangka waktu pembayaran,  dan  konsekuensi keterlambatan pembayaran harus dicantumkan dalam perjanjian utama, bukan addendum.\n",
      "\n",
      "* **Pasal 6 (Penyelesaian Sengketa):**  Menyelesaikan sengketa melalui musyawarah untuk mufakat adalah langkah yang baik.  Namun, perjanjian perlu menambahkan  mekanisme penyelesaian sengketa jika musyawarah gagal, misalnya  mediasi atau arbitrase.  Tanpa alternatif penyelesaian sengketa,  jika musyawarah buntu,  para pihak harus menempuh jalur litigasi yang lebih panjang dan mahal.\n",
      "\n",
      "* **Pasal 7 (Perubahan/Pembaruan Perjanjian):** Pasal ini menyatakan bahwa hal-hal yang belum diatur akan diatur dalam addendum.  Meskipun addendum diperbolehkan,  perjanjian utama harus  sejelas dan selengkap mungkin.  Terlalu banyak bergantung pada addendum dapat  menimbulkan ketidakpastian dan  mempersulit interpretasi perjanjian.  Sebaiknya,  pasal ini juga mengatur  prosedur  pembuatan addendum,  persetujuan para pihak,  dan  bagaimana addendum tersebut  diintegrasikan ke dalam perjanjian utama.\n",
      "\n"
     ]
    }
   ],
   "source": [
    "while (True) : \n",
    "    question = input(\"Masukan Input : \")\n",
    "    if question ==\"stop\": break\n",
    "    ai_msg = rag_chain.invoke({\"input\": question, \"chat_history\": chat_history})\n",
    "    chat_history.extend(\n",
    "        [\n",
    "            HumanMessage(content=question),\n",
    "            AIMessage(content=ai_msg[\"answer\"]),\n",
    "        ]\n",
    "    )\n",
    "    print(ai_msg[\"answer\"])\n",
    "    print()"
   ]
  },
  {
   "cell_type": "code",
   "execution_count": null,
   "metadata": {},
   "outputs": [],
   "source": []
  }
 ],
 "metadata": {
  "kernelspec": {
   "display_name": ".venv",
   "language": "python",
   "name": "python3"
  },
  "language_info": {
   "codemirror_mode": {
    "name": "ipython",
    "version": 3
   },
   "file_extension": ".py",
   "mimetype": "text/x-python",
   "name": "python",
   "nbconvert_exporter": "python",
   "pygments_lexer": "ipython3",
   "version": "3.11.9"
  }
 },
 "nbformat": 4,
 "nbformat_minor": 2
}
