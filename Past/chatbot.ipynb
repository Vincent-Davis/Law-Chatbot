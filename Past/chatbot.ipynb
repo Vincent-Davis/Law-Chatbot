{
 "cells": [
  {
   "cell_type": "code",
   "execution_count": 3,
   "metadata": {},
   "outputs": [],
   "source": [
    "from langchain_community.document_loaders import PyPDFLoader\n",
    "from langchain.text_splitter import RecursiveCharacterTextSplitter"
   ]
  },
  {
   "cell_type": "code",
   "execution_count": 4,
   "metadata": {},
   "outputs": [
    {
     "name": "stdout",
     "output_type": "stream",
     "text": [
      "Processing: 5. UU-40-2007 PERSEROAN TERBATAS.pdf\n",
      "Added 280 documents from 5. UU-40-2007 PERSEROAN TERBATAS.pdf\n",
      "Processing: e39ab-uu-nomor-8-tahun-1999.pdf\n",
      "Added 87 documents from e39ab-uu-nomor-8-tahun-1999.pdf\n",
      "Processing: kolonial_kuh_perdata_fix.pdf\n",
      "Added 1150 documents from kolonial_kuh_perdata_fix.pdf\n",
      "Processing: KUH DAGANG.pdf\n",
      "Added 604 documents from KUH DAGANG.pdf\n",
      "Processing: UU Nomor  19 Tahun 2016.pdf\n",
      "Added 44 documents from UU Nomor  19 Tahun 2016.pdf\n",
      "Processing: UU Nomor 13 Tahun 2003.pdf\n",
      "Added 242 documents from UU Nomor 13 Tahun 2003.pdf\n",
      "Processing: UU_1999_30.pdf\n",
      "Added 84 documents from UU_1999_30.pdf\n",
      "Processing: UU_Nomor_11_Tahun_2020-compressed.pdf\n",
      "Added 2090 documents from UU_Nomor_11_Tahun_2020-compressed.pdf\n",
      "Total number of combined documents:  4581\n"
     ]
    }
   ],
   "source": [
    "# Inisialisasi splitter untuk memisahkan dokumen\n",
    "text_splitter = RecursiveCharacterTextSplitter(chunk_size=1000)\n",
    "\n",
    "# Inisialisasi variabel untuk menampung dokumen yang digabung\n",
    "combined_docs = []\n",
    "\n",
    "# Fungsi untuk memuat dan memisahkan dokumen\n",
    "def load_and_split_pdf(file_path, text_splitter):\n",
    "    loader = PyPDFLoader(file_path)\n",
    "    data = loader.load()  # Muat dokumen sebagai satu kesatuan\n",
    "    split_docs = text_splitter.split_documents(data)  # Pisahkan dokumen\n",
    "    return split_docs\n",
    "\n",
    "# Daftar file yang akan diproses\n",
    "file_paths = [\n",
    "    \"5. UU-40-2007 PERSEROAN TERBATAS.pdf\",\n",
    "    \"e39ab-uu-nomor-8-tahun-1999.pdf\",\n",
    "    \"kolonial_kuh_perdata_fix.pdf\",\n",
    "    \"KUH DAGANG.pdf\",\n",
    "    \"UU Nomor  19 Tahun 2016.pdf\",\n",
    "    \"UU Nomor 13 Tahun 2003.pdf\",\n",
    "    \"UU_1999_30.pdf\",\n",
    "    \"UU_Nomor_11_Tahun_2020-compressed.pdf\",\n",
    "]\n",
    "\n",
    "# Proses setiap dokumen secara otomatis\n",
    "for file_path in file_paths:\n",
    "    print(f\"Processing: {file_path}\")\n",
    "    additional_docs = load_and_split_pdf(file_path, text_splitter)  # Load dan split dokumen\n",
    "    combined_docs += additional_docs  # Gabungkan ke dalam combined_docs\n",
    "    print(f\"Added {len(additional_docs)} documents from {file_path}\")\n",
    "\n",
    "# Total dokumen setelah penggabungan\n",
    "print(\"Total number of combined documents: \", len(combined_docs))"
   ]
  },
  {
   "cell_type": "code",
   "execution_count": 6,
   "metadata": {},
   "outputs": [
    {
     "data": {
      "text/plain": [
       "True"
      ]
     },
     "execution_count": 6,
     "metadata": {},
     "output_type": "execute_result"
    }
   ],
   "source": [
    "from langchain_chroma import Chroma\n",
    "from langchain_google_genai import GoogleGenerativeAIEmbeddings\n",
    "\n",
    "from dotenv import load_dotenv\n",
    "load_dotenv() \n"
   ]
  },
  {
   "cell_type": "code",
   "execution_count": 27,
   "metadata": {},
   "outputs": [],
   "source": [
    "from langchain_google_genai import ChatGoogleGenerativeAI\n",
    "\n",
    "llm = ChatGoogleGenerativeAI(\n",
    "    model=\"gemini-1.5-pro\",\n",
    "    temperature=0.2,               # Sesuai dengan generation_config\n",
    "    top_p=0.95,                    # Menambahkan top_p\n",
    "    top_k=40,                      # Menambahkan top_k\n",
    "    max_tokens=8192,               # Menyesuaikan max_output_tokens\n",
    "    response_mime_type=\"text/plain\" # Menyesuaikan response_mime_type\n",
    ")\n"
   ]
  },
  {
   "cell_type": "code",
   "execution_count": null,
   "metadata": {},
   "outputs": [],
   "source": [
    "# Define system prompt with context placeholder\n",
    "system_prompt = \"\"\"\n",
    "Anda adalah AI hukum yang sangat terlatih, dirancang untuk menjawab pertanyaan pengguna dengan cara yang jelas, akurat, dan ramah. Anda bertugas untuk:\n",
    "\n",
    "1. **Pemanfaatan Konteks Dokumen**:\n",
    "   - Berikut adalah konteks dokumen yang ditemukan:\n",
    "     {context}\n",
    "   - Gunakan konteks ini untuk mendukung jawaban Anda jika relevan dengan pertanyaan pengguna.\n",
    "   - Jika konteks dokumen tidak relevan dengan pertanyaan, abaikan konteks tersebut dan gunakan pengetahuan hukum Anda untuk memberikan jawaban.\n",
    "\n",
    "2. **Fokus pada Pertanyaan**:\n",
    "   - Berikan jawaban yang langsung menjawab inti pertanyaan pengguna.\n",
    "   - Jangan menyertakan informasi yang tidak relevan atau tidak mendukung jawaban.\n",
    "\n",
    "3. **Penyampaian Jawaban**:\n",
    "   - Jawaban Anda harus terstruktur dengan format berikut:\n",
    "     - **Jawaban Langsung**: Jawab inti pertanyaan dengan ringkas dan jelas.\n",
    "     - **Penjelasan**: Berikan alasan atau dasar hukum yang mendukung jawaban Anda.\n",
    "     - Jika ada pasal yang relevan, tambahkan rujukan pasal tersebut. Jika tidak ada, cukup berikan jawaban tanpa menyebutkan bahwa rujukan tidak ditemukan.\n",
    "\n",
    "4. **Nada dan Gaya**:\n",
    "   - Gunakan bahasa yang profesional tetapi tetap ramah dan mudah dipahami.\n",
    "   - Hindari istilah teknis yang berlebihan, dan jika digunakan, berikan penjelasan singkat untuk membantu pengguna memahami.\n",
    "\n",
    "5. **Ketentuan Khusus**:\n",
    "   - Jika retrieval menghasilkan dokumen yang tidak relevan, berikan jawaban berdasarkan pengetahuan hukum Anda tanpa menyebutkan informasi retrieval yang tidak relevan.\n",
    "   - Jangan memberikan informasi yang tidak diminta atau spekulatif.\n",
    "\n",
    "**Catatan Penting**:\n",
    "- Prioritaskan keakuratan dan relevansi dalam setiap jawaban.\n",
    "- Jangan menyertakan bagian \"Rujukan Pasal\" jika tidak ada pasal yang relevan.\n",
    "- Fokus utama Anda adalah memberikan jawaban langsung yang akurat, relevan, dan mendukung kebutuhan pengguna.\n",
    "\n",
    "\"\"\""
   ]
  },
  {
   "cell_type": "code",
   "execution_count": 32,
   "metadata": {},
   "outputs": [
    {
     "name": "stdout",
     "output_type": "stream",
     "text": [
      "**Jawaban Langsung:** Perjanjian jual beli adalah suatu persetujuan di mana pihak yang satu mengikatkan dirinya untuk menyerahkan suatu barang, dan pihak yang lain untuk membayar harga yang telah dijanjikan.\n",
      "\n",
      "**Penjelasan:**  Jual beli merupakan suatu bentuk perjanjian timbal balik.  Penjual memiliki kewajiban untuk menyerahkan barang yang dijual, sedangkan pembeli berkewajiban untuk membayar harga barang tersebut sesuai dengan kesepakatan. Kesepakatan tersebut dapat terjadi secara lisan maupun tertulis.\n",
      "\n",
      "**Rujukan Pasal:** Pasal 1457 KUHPerdata.\n"
     ]
    }
   ],
   "source": [
    "from langchain.chains import create_retrieval_chain\n",
    "from langchain.chains.combine_documents import create_stuff_documents_chain\n",
    "from langchain_core.prompts import ChatPromptTemplate\n",
    "from langchain_google_genai import ChatGoogleGenerativeAI, GoogleGenerativeAIEmbeddings\n",
    "from langchain_chroma import Chroma\n",
    "from langchain_google_genai import GoogleGenerativeAIEmbeddings\n",
    "from dotenv import load_dotenv\n",
    "\n",
    "\n",
    "\n",
    "load_dotenv() \n",
    "\n",
    "user_input = 'Apa itu perjanjian jual beli?'\n",
    "\n",
    "vectorstore = Chroma.from_documents(documents=combined_docs, embedding=GoogleGenerativeAIEmbeddings(model=\"models/embedding-001\"))\n",
    "retriever = vectorstore.as_retriever(search_type=\"similarity\", search_kwargs={\"k\": 10})\n",
    "\n",
    "retrieved_docs = retriever.invoke(user_input)\n",
    "\n",
    "\n",
    "llm = ChatGoogleGenerativeAI(\n",
    "    model=\"gemini-1.5-pro\",\n",
    "    temperature=0.2,               # Sesuai dengan generation_config\n",
    "    top_p=0.95,                    # Menambahkan top_p\n",
    "    top_k=40,                      # Menambahkan top_k\n",
    "    max_tokens=8192,               # Menyesuaikan max_output_tokens\n",
    "    response_mime_type=\"text/plain\" # Menyesuaikan response_mime_type\n",
    ")\n",
    "\n",
    "\n",
    "\n",
    "prompt = ChatPromptTemplate.from_messages(\n",
    "    [\n",
    "        (\"system\", system_prompt),\n",
    "        (\"human\", \"{input}\"),\n",
    "    ]\n",
    ")\n",
    "\n",
    "question_answer_chain = create_stuff_documents_chain(\n",
    "    llm,\n",
    "    prompt,\n",
    ")\n",
    "rag_chain = create_retrieval_chain(retriever, question_answer_chain)\n",
    "\n",
    "response = rag_chain.invoke({\"input\": user_input})\n",
    "print(response[\"answer\"])\n"
   ]
  },
  {
   "cell_type": "code",
   "execution_count": 35,
   "metadata": {},
   "outputs": [],
   "source": [
    "from langchain.chains import create_history_aware_retriever\n",
    "from langchain_core.prompts import MessagesPlaceholder\n",
    "\n",
    "contextualize_q_system_prompt = '''Anda adalah asisten hukum AI yang dirancang untuk memahami dan mengolah pertanyaan hukum. Tugas Anda adalah:\n",
    "\n",
    "1. **Mengidentifikasi Kebutuhan Konteks**:\n",
    "   - Berdasarkan sejarah percakapan (chat history) dan dokumen hukum yang relevan, tentukan apakah pertanyaan terbaru pengguna memerlukan konteks tambahan untuk dipahami sepenuhnya.\n",
    "\n",
    "2. **Reformulasi Pertanyaan**:\n",
    "   - Jika pertanyaan pengguna merujuk pada konteks dari percakapan sebelumnya, reformulasikan pertanyaan tersebut menjadi pertanyaan mandiri yang jelas dan lengkap tanpa memerlukan chat history.\n",
    "   - Jika pertanyaan sudah mandiri dan jelas, kembalikan pertanyaan tersebut apa adanya.\n",
    "\n",
    "3. **Tujuan Reformulasi**:\n",
    "   - Buat pertanyaan mandiri agar sistem dapat mencari dokumen hukum yang relevan dan memberikan jawaban yang akurat.\n",
    "\n",
    "**Peraturan**:\n",
    "- Jangan menjawab pertanyaan.\n",
    "- Jangan memberikan penjelasan tambahan.\n",
    "- Hanya kembalikan pertanyaan dalam format yang mandiri dan dapat dipahami tanpa referensi ke chat history.\n",
    "- Jika pertanyaan sudah jelas dan tidak memerlukan perubahan, kembalikan seperti apa adanya.\n",
    "'''\n",
    "\n",
    "\n",
    "contextualize_q_prompt = ChatPromptTemplate.from_messages(\n",
    "    [\n",
    "        (\"system\", contextualize_q_system_prompt),\n",
    "        MessagesPlaceholder(\"chat_history\"),\n",
    "        (\"human\", \"{input}\"),\n",
    "    ]\n",
    ")\n",
    "history_aware_retriever = create_history_aware_retriever(\n",
    "    llm, retriever, contextualize_q_prompt\n",
    ")\n",
    "\n"
   ]
  },
  {
   "cell_type": "code",
   "execution_count": 36,
   "metadata": {},
   "outputs": [],
   "source": [
    "from langchain.chains import create_retrieval_chain\n",
    "from langchain.chains.combine_documents import create_stuff_documents_chain\n",
    "\n",
    "qa_prompt = ChatPromptTemplate.from_messages(\n",
    "    [\n",
    "        (\"system\", system_prompt),\n",
    "        MessagesPlaceholder(\"chat_history\"),\n",
    "        (\"human\", \"{input}\"),\n",
    "    ]\n",
    ")\n",
    "\n",
    "\n",
    "question_answer_chain = create_stuff_documents_chain(llm, qa_prompt)\n",
    "\n",
    "rag_chain = create_retrieval_chain(history_aware_retriever, question_answer_chain)"
   ]
  },
  {
   "cell_type": "code",
   "execution_count": 37,
   "metadata": {},
   "outputs": [
    {
     "name": "stdout",
     "output_type": "stream",
     "text": [
      "**Jawaban Langsung:** Penjual memiliki dua kewajiban utama, yaitu menyerahkan barang dan menanggung barang yang dijualnya.\n",
      "\n",
      "**Penjelasan:** Kewajiban menyerahkan barang berarti penjual wajib memindahkan barang yang dijual ke dalam kekuasaan dan hak milik pembeli.  Ini termasuk memastikan barang bebas dari cacat atau sengketa kepemilikan. Kewajiban menanggung barang berarti penjual bertanggung jawab atas tuntutan pihak ketiga atas barang tersebut, misalnya jika ada pihak lain yang mengklaim memiliki hak atas barang tersebut. Penjual juga wajib menanggung beban atas barang yang tidak diberitahukan kepada pembeli saat perjanjian jual beli.  Biaya penyerahan barang ditanggung oleh penjual, sedangkan biaya pengambilan barang ditanggung oleh pembeli, kecuali diperjanjikan lain.\n",
      "\n",
      "**Rujukan Pasal:** Pasal 1474, 1475, 1476, dan 1492 KUHPerdata.\n"
     ]
    }
   ],
   "source": [
    "from langchain_core.messages import AIMessage, HumanMessage\n",
    "\n",
    "chat_history = []\n",
    "\n",
    "question = \"Apa itu perjanjian jual beli menurut KUHPerdata?\"\n",
    "ai_msg_1 = rag_chain.invoke({\"input\": question, \"chat_history\": chat_history})\n",
    "chat_history.extend(\n",
    "    [\n",
    "        HumanMessage(content=question),\n",
    "        AIMessage(content=ai_msg_1[\"answer\"]),\n",
    "    ]\n",
    ")\n",
    "\n",
    "second_question = \"Apa kewajiban penjual dalam perjanjian jual beli tersebut?\"\n",
    "ai_msg_2 = rag_chain.invoke({\"input\": second_question, \"chat_history\": chat_history})\n",
    "\n",
    "print(ai_msg_2[\"answer\"])"
   ]
  },
  {
   "cell_type": "code",
   "execution_count": 38,
   "metadata": {},
   "outputs": [
    {
     "name": "stdout",
     "output_type": "stream",
     "text": [
      "**Jawaban Langsung:** Perjanjian jual beli adalah suatu persetujuan dengan mana pihak yang satu mengikatkan dirinya untuk menyerahkan suatu kebendaan, dan pihak yang lain untuk membayar harga yang telah dijanjikan.\n",
      "\n",
      "**Penjelasan:**  KUH Perdata mendefinisikan jual beli sebagai suatu perjanjian timbal balik (sinalagmatis) di mana terdapat dua pihak yang saling berjanji. Pihak pertama, yaitu penjual, berjanji untuk menyerahkan suatu barang. Pihak kedua, yaitu pembeli, berjanji untuk membayar harga barang tersebut.  Perjanjian ini bersifat konsensual, artinya perjanjian jual beli sah terjadi saat tercapai kesepakatan antara penjual dan pembeli mengenai barang dan harganya, meskipun barang belum diserahkan dan harga belum dibayar.\n",
      "\n",
      "**Rujukan Pasal:** Pasal 1457 KUHPerdata.\n"
     ]
    }
   ],
   "source": [
    "print(ai_msg_1[\"answer\"])"
   ]
  },
  {
   "cell_type": "code",
   "execution_count": null,
   "metadata": {},
   "outputs": [],
   "source": []
  }
 ],
 "metadata": {
  "kernelspec": {
   "display_name": ".venv",
   "language": "python",
   "name": "python3"
  },
  "language_info": {
   "codemirror_mode": {
    "name": "ipython",
    "version": 3
   },
   "file_extension": ".py",
   "mimetype": "text/x-python",
   "name": "python",
   "nbconvert_exporter": "python",
   "pygments_lexer": "ipython3",
   "version": "3.11.9"
  }
 },
 "nbformat": 4,
 "nbformat_minor": 2
}
